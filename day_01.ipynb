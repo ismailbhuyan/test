{
  "nbformat": 4,
  "nbformat_minor": 0,
  "metadata": {
    "colab": {
      "provenance": [],
      "include_colab_link": true
    },
    "kernelspec": {
      "name": "python3",
      "display_name": "Python 3"
    },
    "language_info": {
      "name": "python"
    }
  },
  "cells": [
    {
      "cell_type": "markdown",
      "metadata": {
        "id": "view-in-github",
        "colab_type": "text"
      },
      "source": [
        "<a href=\"https://colab.research.google.com/github/ismailbhuyan/test/blob/main/day_01.ipynb\" target=\"_parent\"><img src=\"https://colab.research.google.com/assets/colab-badge.svg\" alt=\"Open In Colab\"/></a>"
      ]
    },
    {
      "cell_type": "markdown",
      "source": [
        "For Article: [Setup Python Development Environment](https://hostman.com/tutorials/how-to-set-up-visual-studio-code-for-python/)\n"
      ],
      "metadata": {
        "id": "0vKDuBtG3SB_"
      }
    },
    {
      "cell_type": "markdown",
      "source": [
        "For Video: [Setup Python Development Environment](https://www.youtube.com/playlist?list=PLwHsDW0b6wmBF5Gy9X4M6Gp_CIv-s1r6w)"
      ],
      "metadata": {
        "id": "hl40RTJI4haX"
      }
    }
  ]
}